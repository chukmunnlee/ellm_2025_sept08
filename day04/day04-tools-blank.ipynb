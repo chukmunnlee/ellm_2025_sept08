{
 "cells": [
  {
   "cell_type": "markdown",
   "metadata": {},
   "source": [
    "# Tools\n",
    "\n",
    "This notebook contains all the tools that will be used by the agent."
   ]
  },
  {
   "cell_type": "code",
   "execution_count": 1,
   "metadata": {},
   "outputs": [],
   "source": [
    "import requests\n",
    "import sqlite3\n",
    "import pandas as pd\n",
    "\n",
    "from smolagents import tool, Tool\n",
    "\n",
    "from langchain_community.tools.ddg_search.tool import DuckDuckGoSearchRun"
   ]
  },
  {
   "cell_type": "markdown",
   "metadata": {},
   "source": [
    "## Creating simple tool\n",
    "\n",
    "A Python function must be annotated with `@tool`. It should also have a docstring describing what does the function do, what does it return and the description of its parameters."
   ]
  },
  {
   "cell_type": "markdown",
   "metadata": {},
   "source": [
    "### City to location \n",
    "\n",
    "The following function look up at latitude and longitude of a city."
   ]
  },
  {
   "cell_type": "code",
   "execution_count": 2,
   "metadata": {},
   "outputs": [
    {
     "data": {
      "text/html": [
       "<div>\n",
       "<style scoped>\n",
       "    .dataframe tbody tr th:only-of-type {\n",
       "        vertical-align: middle;\n",
       "    }\n",
       "\n",
       "    .dataframe tbody tr th {\n",
       "        vertical-align: top;\n",
       "    }\n",
       "\n",
       "    .dataframe thead th {\n",
       "        text-align: right;\n",
       "    }\n",
       "</style>\n",
       "<table border=\"1\" class=\"dataframe\">\n",
       "  <thead>\n",
       "    <tr style=\"text-align: right;\">\n",
       "      <th></th>\n",
       "      <th>1</th>\n",
       "      <th>Afghanistan</th>\n",
       "      <th>Kabul</th>\n",
       "      <th>34.5166667</th>\n",
       "      <th>69.1833344</th>\n",
       "      <th>1808</th>\n",
       "    </tr>\n",
       "  </thead>\n",
       "  <tbody>\n",
       "    <tr>\n",
       "      <th>0</th>\n",
       "      <td>2</td>\n",
       "      <td>Afghanistan</td>\n",
       "      <td>Kandahar</td>\n",
       "      <td>31.610000</td>\n",
       "      <td>65.699997</td>\n",
       "      <td>1015</td>\n",
       "    </tr>\n",
       "    <tr>\n",
       "      <th>1</th>\n",
       "      <td>3</td>\n",
       "      <td>Afghanistan</td>\n",
       "      <td>Mazar-e Sharif</td>\n",
       "      <td>36.706944</td>\n",
       "      <td>67.112221</td>\n",
       "      <td>369</td>\n",
       "    </tr>\n",
       "    <tr>\n",
       "      <th>2</th>\n",
       "      <td>4</td>\n",
       "      <td>Afghanistan</td>\n",
       "      <td>Herat</td>\n",
       "      <td>34.340000</td>\n",
       "      <td>62.189999</td>\n",
       "      <td>927</td>\n",
       "    </tr>\n",
       "    <tr>\n",
       "      <th>3</th>\n",
       "      <td>5</td>\n",
       "      <td>Afghanistan</td>\n",
       "      <td>Jalalabad</td>\n",
       "      <td>34.420000</td>\n",
       "      <td>70.449997</td>\n",
       "      <td>573</td>\n",
       "    </tr>\n",
       "    <tr>\n",
       "      <th>4</th>\n",
       "      <td>6</td>\n",
       "      <td>Afghanistan</td>\n",
       "      <td>Konduz</td>\n",
       "      <td>36.720000</td>\n",
       "      <td>68.860001</td>\n",
       "      <td>394</td>\n",
       "    </tr>\n",
       "  </tbody>\n",
       "</table>\n",
       "</div>"
      ],
      "text/plain": [
       "   1  Afghanistan           Kabul  34.5166667  69.1833344  1808\n",
       "0  2  Afghanistan        Kandahar   31.610000   65.699997  1015\n",
       "1  3  Afghanistan  Mazar-e Sharif   36.706944   67.112221   369\n",
       "2  4  Afghanistan           Herat   34.340000   62.189999   927\n",
       "3  5  Afghanistan       Jalalabad   34.420000   70.449997   573\n",
       "4  6  Afghanistan          Konduz   36.720000   68.860001   394"
      ]
     },
     "execution_count": 2,
     "metadata": {},
     "output_type": "execute_result"
    }
   ],
   "source": [
    "# TODO: Load CSV file containing latitude, longitude and altitude of cities\n",
    "# https://github.com/bahar/WorldCityLocations/tree/master\n",
    "df = pd.read_csv('data/cities_latlng.csv', sep=';')\n",
    "df.head()"
   ]
  },
  {
   "cell_type": "code",
   "execution_count": 3,
   "metadata": {},
   "outputs": [],
   "source": [
    "df.columns = ['id', 'country', 'city', 'latitude', 'longitude', 'altitude']\n",
    "df.drop('country', axis=1, inplace=True)"
   ]
  },
  {
   "cell_type": "code",
   "execution_count": 4,
   "metadata": {},
   "outputs": [
    {
     "data": {
      "text/html": [
       "<div>\n",
       "<style scoped>\n",
       "    .dataframe tbody tr th:only-of-type {\n",
       "        vertical-align: middle;\n",
       "    }\n",
       "\n",
       "    .dataframe tbody tr th {\n",
       "        vertical-align: top;\n",
       "    }\n",
       "\n",
       "    .dataframe thead th {\n",
       "        text-align: right;\n",
       "    }\n",
       "</style>\n",
       "<table border=\"1\" class=\"dataframe\">\n",
       "  <thead>\n",
       "    <tr style=\"text-align: right;\">\n",
       "      <th></th>\n",
       "      <th>id</th>\n",
       "      <th>city</th>\n",
       "      <th>latitude</th>\n",
       "      <th>longitude</th>\n",
       "      <th>altitude</th>\n",
       "    </tr>\n",
       "  </thead>\n",
       "  <tbody>\n",
       "    <tr>\n",
       "      <th>0</th>\n",
       "      <td>2</td>\n",
       "      <td>Kandahar</td>\n",
       "      <td>31.610000</td>\n",
       "      <td>65.699997</td>\n",
       "      <td>1015</td>\n",
       "    </tr>\n",
       "    <tr>\n",
       "      <th>1</th>\n",
       "      <td>3</td>\n",
       "      <td>Mazar-e Sharif</td>\n",
       "      <td>36.706944</td>\n",
       "      <td>67.112221</td>\n",
       "      <td>369</td>\n",
       "    </tr>\n",
       "    <tr>\n",
       "      <th>2</th>\n",
       "      <td>4</td>\n",
       "      <td>Herat</td>\n",
       "      <td>34.340000</td>\n",
       "      <td>62.189999</td>\n",
       "      <td>927</td>\n",
       "    </tr>\n",
       "    <tr>\n",
       "      <th>3</th>\n",
       "      <td>5</td>\n",
       "      <td>Jalalabad</td>\n",
       "      <td>34.420000</td>\n",
       "      <td>70.449997</td>\n",
       "      <td>573</td>\n",
       "    </tr>\n",
       "    <tr>\n",
       "      <th>4</th>\n",
       "      <td>6</td>\n",
       "      <td>Konduz</td>\n",
       "      <td>36.720000</td>\n",
       "      <td>68.860001</td>\n",
       "      <td>394</td>\n",
       "    </tr>\n",
       "  </tbody>\n",
       "</table>\n",
       "</div>"
      ],
      "text/plain": [
       "   id            city   latitude  longitude  altitude\n",
       "0   2        Kandahar  31.610000  65.699997      1015\n",
       "1   3  Mazar-e Sharif  36.706944  67.112221       369\n",
       "2   4           Herat  34.340000  62.189999       927\n",
       "3   5       Jalalabad  34.420000  70.449997       573\n",
       "4   6          Konduz  36.720000  68.860001       394"
      ]
     },
     "execution_count": 4,
     "metadata": {},
     "output_type": "execute_result"
    }
   ],
   "source": [
    "df.head()"
   ]
  },
  {
   "cell_type": "code",
   "execution_count": null,
   "metadata": {},
   "outputs": [],
   "source": [
    "# TODO: Explore the loaded dataframe\n"
   ]
  },
  {
   "cell_type": "code",
   "execution_count": 10,
   "metadata": {},
   "outputs": [],
   "source": [
    "# TODO: Add tool description\n",
    "\n",
    "@tool\n",
    "def get_latlng(city: str) -> any:\n",
    "   \"\"\"\n",
    "   Get the latitude, longitude and altitude of a given city, county, state, etc.\n",
    "\n",
    "   Args:\n",
    "      city: the name of the city that you want to get the latitude, longitude and altitude\n",
    "\n",
    "   Returns:\n",
    "      any: a dictionary with the following keys: city, latitude, longitude and altitude\n",
    "\n",
    "   Example:\n",
    "      result = get_latlng('tokyo')\n",
    "   \"\"\"\n",
    "   r = df.query(f\"city.str.lower() == '{city.lower()}'\")\n",
    "   return { 'city': city, 'latitude': r.iloc[0]['latitude'], 'longitude': r.iloc[0]['longitude'], 'altitude': r.iloc[0]['altitude'] }"
   ]
  },
  {
   "cell_type": "code",
   "execution_count": 11,
   "metadata": {},
   "outputs": [
    {
     "data": {
      "text/plain": [
       "{'city': 'tokyo',\n",
       " 'latitude': np.float64(35.6895266),\n",
       " 'longitude': np.float64(139.6916809),\n",
       " 'altitude': np.int64(40)}"
      ]
     },
     "execution_count": 11,
     "metadata": {},
     "output_type": "execute_result"
    }
   ],
   "source": [
    "# TODO: Test get_latlng method\n",
    "# case insensitive search\n",
    "get_latlng('tokyo')"
   ]
  },
  {
   "cell_type": "markdown",
   "metadata": {},
   "source": [
    "### Temperature at latitude and longitude\n",
    "\n",
    "The following function lookup the weather at the given latitude and longtude."
   ]
  },
  {
   "cell_type": "code",
   "execution_count": 14,
   "metadata": {},
   "outputs": [],
   "source": [
    "# TODO: Add tool description\n",
    "\n",
    "@tool\n",
    "def get_temperature(latitude: float, longitude: float) -> any:\n",
    "   \"\"\" \n",
    "   Return the temperature of a location given by its latitude and logitude\n",
    "\n",
    "   Args:\n",
    "      latitude: location's latitude\n",
    "      longitude: location's longitude\n",
    "\n",
    "   Returns:\n",
    "      any: a dictionary with the following keys: temperature_unit in celsius, temperature \n",
    "\n",
    "   Example:\n",
    "      result = get_temperature(35.6895266, 139.6916809)\n",
    "   \"\"\"\n",
    "   url = f\"https://api.open-meteo.com/v1/forecast?latitude={latitude}&longitude={longitude}&current=temperature_2m\"\n",
    "   resp = requests.get(url)\n",
    "   j = resp.json()\n",
    "   if resp.status_code >= 400:\n",
    "      raise Exception(j['reason'])\n",
    "   temperature = j['current']['temperature_2m']\n",
    "   units = j['current_units']['temperature_2m']\n",
    "   return { \"temperature_unit\": units, \"temperature\": temperature }"
   ]
  },
  {
   "cell_type": "code",
   "execution_count": 13,
   "metadata": {},
   "outputs": [
    {
     "data": {
      "text/plain": [
       "{'temperature_unit': '°C', 'temperature': 30.5}"
      ]
     },
     "execution_count": 13,
     "metadata": {},
     "output_type": "execute_result"
    }
   ],
   "source": [
    "# TODO: Test get_temperature method\n",
    "get_temperature(35.6895266, 139.6916809)"
   ]
  },
  {
   "cell_type": "code",
   "execution_count": null,
   "metadata": {},
   "outputs": [],
   "source": [
    "# TODO: Create a web search tool\n",
    "\n",
    "def web_search(query: str) -> any:\n",
    "\n",
    "   search = DuckDuckGoSearchRun()\n",
    "   return search.invoke(query)"
   ]
  },
  {
   "cell_type": "code",
   "execution_count": null,
   "metadata": {},
   "outputs": [],
   "source": [
    "# TODO: Test the web search\n"
   ]
  },
  {
   "cell_type": "markdown",
   "metadata": {},
   "source": [
    "### Query relational database\n",
    "\n",
    "The following function queries a relational database (SQLite) view called `album_track`. The table's schema is as follows:\n",
    "| Field name  | Type          |\n",
    "|-------------|---------------| \n",
    "| AlbumId     | integer       |\n",
    "| Title       | nvarchar(160) |\n",
    "| track_name  | nvarchar(200) |\n",
    "| artist_name | nvarchar(120) |\n",
    "| duration    | integer       |\n",
    "| composer    | nvarchar(220) |\n"
   ]
  },
  {
   "cell_type": "code",
   "execution_count": 19,
   "metadata": {},
   "outputs": [],
   "source": [
    "# TODO: Add tool description\n",
    "@tool\n",
    "def query_album_track(query: str) -> str:\n",
    "   \"\"\" \n",
    "   Perform SQL queries on the album_track table. Returns the result as an array of records.\n",
    "   The table name is album_track and has the following columns:\n",
    "      AlbumId: integer\n",
    "      Title: nvachar(160)\n",
    "      track_name: nvachar(200)\n",
    "      artist_name: nvachar(120)\n",
    "      duration: integer\n",
    "      composer nvachar(220)\n",
    "   The duration column is in milliseconds\n",
    "\n",
    "   Args:\n",
    "      query: a valid SQLite SQL query\n",
    "\n",
    "   Returns:\n",
    "      any: list of tuple. Each element corresponds to a record\n",
    "\n",
    "   Example:\n",
    "      results = query_album_track('select * from album_track)\n",
    "   \"\"\"\n",
    "   database = \"data/chinook_sqlite.sqlite\" \n",
    "   conn = sqlite3.connect(database)\n",
    "   try:\n",
    "      cursor = conn.cursor() \n",
    "      rows = cursor.execute(query)\n",
    "      return rows.fetchall()\n",
    "   finally:\n",
    "      conn.close()"
   ]
  },
  {
   "cell_type": "code",
   "execution_count": 20,
   "metadata": {},
   "outputs": [
    {
     "data": {
      "text/plain": [
       "[(1,\n",
       "  'For Those About To Rock We Salute You',\n",
       "  'For Those About To Rock (We Salute You)',\n",
       "  'AC/DC',\n",
       "  343719,\n",
       "  'Angus Young, Malcolm Young, Brian Johnson'),\n",
       " (2, 'Balls to the Wall', 'Balls to the Wall', 'Accept', 342562, None),\n",
       " (3,\n",
       "  'Restless and Wild',\n",
       "  'Fast As a Shark',\n",
       "  'Accept',\n",
       "  230619,\n",
       "  'F. Baltes, S. Kaufman, U. Dirkscneider & W. Hoffman')]"
      ]
     },
     "execution_count": 20,
     "metadata": {},
     "output_type": "execute_result"
    }
   ],
   "source": [
    "# TODO: Test the query_album_track function\n",
    "query_album_track('select * from album_track limit 3')"
   ]
  },
  {
   "cell_type": "markdown",
   "metadata": {},
   "source": [
    "### Tools with states\n",
    "\n",
    "The following isn an example of a more complex tool that requires initialisation"
   ]
  },
  {
   "cell_type": "code",
   "execution_count": 31,
   "metadata": {},
   "outputs": [],
   "source": [
    "class SQLiteTool(Tool):\n",
    "   # required metadata\n",
    "   name = \"chinook_sqlite\"\n",
    "\n",
    "   description = \"\"\" \n",
    "   Perform SQL queries on the album_track table. Returns the result as an array of records.\n",
    "   The table name is album_track and has the following columns:\n",
    "      AlbumId: integer\n",
    "      Title: nvachar(160)\n",
    "      track_name: nvachar(200)\n",
    "      artist_name: nvachar(120)\n",
    "      duration: integer\n",
    "      composer nvachar(220)\n",
    "   The duration column is in milliseconds\n",
    "   \"\"\"\n",
    "\n",
    "   inputs = {\n",
    "      \"query\": {\n",
    "         \"type\": \"string\",\n",
    "         \"description\": \"a valid SQLite SQL query\"\n",
    "      }   \n",
    "   }\n",
    "\n",
    "   output_type = \"any\"\n",
    "\n",
    "   def __init__(self, db_file):\n",
    "      self.db_file = db_file \n",
    "      self.conn = sqlite3.connect(self.db_file)\n",
    "      self.setup()\n",
    "\n",
    "   def forward(self, query: str) -> str:      \n",
    "      try:\n",
    "         cursor = self.conn.cursor() \n",
    "         rows = cursor.execute(query)\n",
    "         return rows.fetchall()\n",
    "      finally:\n",
    "         pass  "
   ]
  },
  {
   "cell_type": "code",
   "execution_count": 32,
   "metadata": {},
   "outputs": [],
   "source": [
    "sql = SQLiteTool(\"data/chinook_sqlite.sqlite\")"
   ]
  },
  {
   "cell_type": "code",
   "execution_count": 33,
   "metadata": {},
   "outputs": [
    {
     "data": {
      "text/plain": [
       "[(3503,)]"
      ]
     },
     "execution_count": 33,
     "metadata": {},
     "output_type": "execute_result"
    }
   ],
   "source": [
    "sql.forward('select count(*) from album_track')"
   ]
  }
 ],
 "metadata": {
  "kernelspec": {
   "display_name": ".venv",
   "language": "python",
   "name": "python3"
  },
  "language_info": {
   "codemirror_mode": {
    "name": "ipython",
    "version": 3
   },
   "file_extension": ".py",
   "mimetype": "text/x-python",
   "name": "python",
   "nbconvert_exporter": "python",
   "pygments_lexer": "ipython3",
   "version": "3.12.3"
  }
 },
 "nbformat": 4,
 "nbformat_minor": 2
}
